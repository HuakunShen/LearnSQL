{
 "metadata": {
  "language_info": {
   "codemirror_mode": {
    "name": "ipython",
    "version": 3
   },
   "file_extension": ".py",
   "mimetype": "text/x-python",
   "name": "python",
   "nbconvert_exporter": "python",
   "pygments_lexer": "ipython3",
   "version": "3.7.6-final"
  },
  "orig_nbformat": 2,
  "kernelspec": {
   "name": "python3",
   "display_name": "Python 3"
  }
 },
 "nbformat": 4,
 "nbformat_minor": 2,
 "cells": [
  {
   "cell_type": "markdown",
   "metadata": {},
   "source": [
    "# Use MySQL with Pandas"
   ]
  },
  {
   "cell_type": "code",
   "execution_count": 5,
   "metadata": {},
   "outputs": [],
   "source": [
    "import mysql.connector\n",
    "import pandas as pd"
   ]
  },
  {
   "cell_type": "code",
   "execution_count": 8,
   "metadata": {},
   "outputs": [],
   "source": [
    "con = mysql.connector.connect(\n",
    "  host=\"localhost\",\n",
    "  user=\"root\",\n",
    "  password=\"root\",\n",
    "  database=\"world\",\n",
    "  auth_plugin='mysql_native_password'\n",
    ")"
   ]
  },
  {
   "cell_type": "code",
   "execution_count": 17,
   "metadata": {},
   "outputs": [
    {
     "output_type": "execute_result",
     "data": {
      "text/plain": "   ID            Name CountryCode       District  Population\n0   1           Kabul         AFG          Kabol     1780000\n1   2        Qandahar         AFG       Qandahar      237500\n2   3           Herat         AFG          Herat      186800\n3   4  Mazar-e-Sharif         AFG          Balkh      127800\n4   5       Amsterdam         NLD  Noord-Holland      731200\n5   6       Rotterdam         NLD   Zuid-Holland      593321\n6   7            Haag         NLD   Zuid-Holland      440900\n7   8         Utrecht         NLD        Utrecht      234323\n8   9       Eindhoven         NLD  Noord-Brabant      201843\n9  10         Tilburg         NLD  Noord-Brabant      193238",
      "text/html": "<div>\n<style scoped>\n    .dataframe tbody tr th:only-of-type {\n        vertical-align: middle;\n    }\n\n    .dataframe tbody tr th {\n        vertical-align: top;\n    }\n\n    .dataframe thead th {\n        text-align: right;\n    }\n</style>\n<table border=\"1\" class=\"dataframe\">\n  <thead>\n    <tr style=\"text-align: right;\">\n      <th></th>\n      <th>ID</th>\n      <th>Name</th>\n      <th>CountryCode</th>\n      <th>District</th>\n      <th>Population</th>\n    </tr>\n  </thead>\n  <tbody>\n    <tr>\n      <th>0</th>\n      <td>1</td>\n      <td>Kabul</td>\n      <td>AFG</td>\n      <td>Kabol</td>\n      <td>1780000</td>\n    </tr>\n    <tr>\n      <th>1</th>\n      <td>2</td>\n      <td>Qandahar</td>\n      <td>AFG</td>\n      <td>Qandahar</td>\n      <td>237500</td>\n    </tr>\n    <tr>\n      <th>2</th>\n      <td>3</td>\n      <td>Herat</td>\n      <td>AFG</td>\n      <td>Herat</td>\n      <td>186800</td>\n    </tr>\n    <tr>\n      <th>3</th>\n      <td>4</td>\n      <td>Mazar-e-Sharif</td>\n      <td>AFG</td>\n      <td>Balkh</td>\n      <td>127800</td>\n    </tr>\n    <tr>\n      <th>4</th>\n      <td>5</td>\n      <td>Amsterdam</td>\n      <td>NLD</td>\n      <td>Noord-Holland</td>\n      <td>731200</td>\n    </tr>\n    <tr>\n      <th>5</th>\n      <td>6</td>\n      <td>Rotterdam</td>\n      <td>NLD</td>\n      <td>Zuid-Holland</td>\n      <td>593321</td>\n    </tr>\n    <tr>\n      <th>6</th>\n      <td>7</td>\n      <td>Haag</td>\n      <td>NLD</td>\n      <td>Zuid-Holland</td>\n      <td>440900</td>\n    </tr>\n    <tr>\n      <th>7</th>\n      <td>8</td>\n      <td>Utrecht</td>\n      <td>NLD</td>\n      <td>Utrecht</td>\n      <td>234323</td>\n    </tr>\n    <tr>\n      <th>8</th>\n      <td>9</td>\n      <td>Eindhoven</td>\n      <td>NLD</td>\n      <td>Noord-Brabant</td>\n      <td>201843</td>\n    </tr>\n    <tr>\n      <th>9</th>\n      <td>10</td>\n      <td>Tilburg</td>\n      <td>NLD</td>\n      <td>Noord-Brabant</td>\n      <td>193238</td>\n    </tr>\n  </tbody>\n</table>\n</div>"
     },
     "metadata": {},
     "execution_count": 17
    }
   ],
   "source": [
    "pd.read_sql(\"SELECT * FROM city LIMIT 10;\", con=con)"
   ]
  },
  {
   "cell_type": "code",
   "execution_count": 15,
   "metadata": {},
   "outputs": [
    {
     "output_type": "execute_result",
     "data": {
      "text/plain": "  Code                  Name      Continent                     Region  \\\n0  ABW                 Aruba  North America                  Caribbean   \n1  AFG           Afghanistan           Asia  Southern and Central Asia   \n2  AGO                Angola         Africa             Central Africa   \n3  AIA              Anguilla  North America                  Caribbean   \n4  ALB               Albania         Europe            Southern Europe   \n5  AND               Andorra         Europe            Southern Europe   \n6  ANT  Netherlands Antilles  North America                  Caribbean   \n7  ARE  United Arab Emirates           Asia                Middle East   \n8  ARG             Argentina  South America              South America   \n9  ARM               Armenia           Asia                Middle East   \n\n   SurfaceArea  IndepYear  Population  LifeExpectancy       GNP    GNPOld  \\\n0        193.0        NaN      103000            78.4     828.0     793.0   \n1     652090.0     1919.0    22720000            45.9    5976.0       NaN   \n2    1246700.0     1975.0    12878000            38.3    6648.0    7984.0   \n3         96.0        NaN        8000            76.1      63.2       NaN   \n4      28748.0     1912.0     3401200            71.6    3205.0    2500.0   \n5        468.0     1278.0       78000            83.5    1630.0       NaN   \n6        800.0        NaN      217000            74.7    1941.0       NaN   \n7      83600.0     1971.0     2441000            74.1   37966.0   36846.0   \n8    2780400.0     1816.0    37032000            75.1  340238.0  323310.0   \n9      29800.0     1991.0     3520000            66.4    1813.0    1627.0   \n\n                             LocalName  \\\n0                                Aruba   \n1                Afganistan/Afqanestan   \n2                               Angola   \n3                             Anguilla   \n4                           ShqipÃ«ria   \n5                              Andorra   \n6                 Nederlandse Antillen   \n7  Al-Imarat al-Â´Arabiya al-Muttahida   \n8                            Argentina   \n9                             Hajastan   \n\n                                 GovernmentForm                  HeadOfState  \\\n0  Nonmetropolitan Territory of The Netherlands                      Beatrix   \n1                               Islamic Emirate                Mohammad Omar   \n2                                      Republic     JosÃ© Eduardo dos Santos   \n3                 Dependent Territory of the UK                 Elisabeth II   \n4                                      Republic               Rexhep Mejdani   \n5                  Parliamentary Coprincipality                                \n6  Nonmetropolitan Territory of The Netherlands                      Beatrix   \n7                            Emirate Federation  Zayid bin Sultan al-Nahayan   \n8                              Federal Republic          Fernando de la RÃºa   \n9                                      Republic            Robert KotÂšarjan   \n\n   Capital Code2  \n0      129    AW  \n1        1    AF  \n2       56    AO  \n3       62    AI  \n4       34    AL  \n5       55    AD  \n6       33    AN  \n7       65    AE  \n8       69    AR  \n9      126    AM  ",
      "text/html": "<div>\n<style scoped>\n    .dataframe tbody tr th:only-of-type {\n        vertical-align: middle;\n    }\n\n    .dataframe tbody tr th {\n        vertical-align: top;\n    }\n\n    .dataframe thead th {\n        text-align: right;\n    }\n</style>\n<table border=\"1\" class=\"dataframe\">\n  <thead>\n    <tr style=\"text-align: right;\">\n      <th></th>\n      <th>Code</th>\n      <th>Name</th>\n      <th>Continent</th>\n      <th>Region</th>\n      <th>SurfaceArea</th>\n      <th>IndepYear</th>\n      <th>Population</th>\n      <th>LifeExpectancy</th>\n      <th>GNP</th>\n      <th>GNPOld</th>\n      <th>LocalName</th>\n      <th>GovernmentForm</th>\n      <th>HeadOfState</th>\n      <th>Capital</th>\n      <th>Code2</th>\n    </tr>\n  </thead>\n  <tbody>\n    <tr>\n      <th>0</th>\n      <td>ABW</td>\n      <td>Aruba</td>\n      <td>North America</td>\n      <td>Caribbean</td>\n      <td>193.0</td>\n      <td>NaN</td>\n      <td>103000</td>\n      <td>78.4</td>\n      <td>828.0</td>\n      <td>793.0</td>\n      <td>Aruba</td>\n      <td>Nonmetropolitan Territory of The Netherlands</td>\n      <td>Beatrix</td>\n      <td>129</td>\n      <td>AW</td>\n    </tr>\n    <tr>\n      <th>1</th>\n      <td>AFG</td>\n      <td>Afghanistan</td>\n      <td>Asia</td>\n      <td>Southern and Central Asia</td>\n      <td>652090.0</td>\n      <td>1919.0</td>\n      <td>22720000</td>\n      <td>45.9</td>\n      <td>5976.0</td>\n      <td>NaN</td>\n      <td>Afganistan/Afqanestan</td>\n      <td>Islamic Emirate</td>\n      <td>Mohammad Omar</td>\n      <td>1</td>\n      <td>AF</td>\n    </tr>\n    <tr>\n      <th>2</th>\n      <td>AGO</td>\n      <td>Angola</td>\n      <td>Africa</td>\n      <td>Central Africa</td>\n      <td>1246700.0</td>\n      <td>1975.0</td>\n      <td>12878000</td>\n      <td>38.3</td>\n      <td>6648.0</td>\n      <td>7984.0</td>\n      <td>Angola</td>\n      <td>Republic</td>\n      <td>JosÃ© Eduardo dos Santos</td>\n      <td>56</td>\n      <td>AO</td>\n    </tr>\n    <tr>\n      <th>3</th>\n      <td>AIA</td>\n      <td>Anguilla</td>\n      <td>North America</td>\n      <td>Caribbean</td>\n      <td>96.0</td>\n      <td>NaN</td>\n      <td>8000</td>\n      <td>76.1</td>\n      <td>63.2</td>\n      <td>NaN</td>\n      <td>Anguilla</td>\n      <td>Dependent Territory of the UK</td>\n      <td>Elisabeth II</td>\n      <td>62</td>\n      <td>AI</td>\n    </tr>\n    <tr>\n      <th>4</th>\n      <td>ALB</td>\n      <td>Albania</td>\n      <td>Europe</td>\n      <td>Southern Europe</td>\n      <td>28748.0</td>\n      <td>1912.0</td>\n      <td>3401200</td>\n      <td>71.6</td>\n      <td>3205.0</td>\n      <td>2500.0</td>\n      <td>ShqipÃ«ria</td>\n      <td>Republic</td>\n      <td>Rexhep Mejdani</td>\n      <td>34</td>\n      <td>AL</td>\n    </tr>\n    <tr>\n      <th>5</th>\n      <td>AND</td>\n      <td>Andorra</td>\n      <td>Europe</td>\n      <td>Southern Europe</td>\n      <td>468.0</td>\n      <td>1278.0</td>\n      <td>78000</td>\n      <td>83.5</td>\n      <td>1630.0</td>\n      <td>NaN</td>\n      <td>Andorra</td>\n      <td>Parliamentary Coprincipality</td>\n      <td></td>\n      <td>55</td>\n      <td>AD</td>\n    </tr>\n    <tr>\n      <th>6</th>\n      <td>ANT</td>\n      <td>Netherlands Antilles</td>\n      <td>North America</td>\n      <td>Caribbean</td>\n      <td>800.0</td>\n      <td>NaN</td>\n      <td>217000</td>\n      <td>74.7</td>\n      <td>1941.0</td>\n      <td>NaN</td>\n      <td>Nederlandse Antillen</td>\n      <td>Nonmetropolitan Territory of The Netherlands</td>\n      <td>Beatrix</td>\n      <td>33</td>\n      <td>AN</td>\n    </tr>\n    <tr>\n      <th>7</th>\n      <td>ARE</td>\n      <td>United Arab Emirates</td>\n      <td>Asia</td>\n      <td>Middle East</td>\n      <td>83600.0</td>\n      <td>1971.0</td>\n      <td>2441000</td>\n      <td>74.1</td>\n      <td>37966.0</td>\n      <td>36846.0</td>\n      <td>Al-Imarat al-Â´Arabiya al-Muttahida</td>\n      <td>Emirate Federation</td>\n      <td>Zayid bin Sultan al-Nahayan</td>\n      <td>65</td>\n      <td>AE</td>\n    </tr>\n    <tr>\n      <th>8</th>\n      <td>ARG</td>\n      <td>Argentina</td>\n      <td>South America</td>\n      <td>South America</td>\n      <td>2780400.0</td>\n      <td>1816.0</td>\n      <td>37032000</td>\n      <td>75.1</td>\n      <td>340238.0</td>\n      <td>323310.0</td>\n      <td>Argentina</td>\n      <td>Federal Republic</td>\n      <td>Fernando de la RÃºa</td>\n      <td>69</td>\n      <td>AR</td>\n    </tr>\n    <tr>\n      <th>9</th>\n      <td>ARM</td>\n      <td>Armenia</td>\n      <td>Asia</td>\n      <td>Middle East</td>\n      <td>29800.0</td>\n      <td>1991.0</td>\n      <td>3520000</td>\n      <td>66.4</td>\n      <td>1813.0</td>\n      <td>1627.0</td>\n      <td>Hajastan</td>\n      <td>Republic</td>\n      <td>Robert KotÂšarjan</td>\n      <td>126</td>\n      <td>AM</td>\n    </tr>\n  </tbody>\n</table>\n</div>"
     },
     "metadata": {},
     "execution_count": 15
    }
   ],
   "source": [
    "pd.read_sql(\"SELECT * FROM country LIMIT 10;\", con=con)"
   ]
  },
  {
   "cell_type": "code",
   "execution_count": 16,
   "metadata": {},
   "outputs": [
    {
     "output_type": "execute_result",
     "data": {
      "text/plain": "  CountryCode    Language IsOfficial  Percentage\n0         ABW       Dutch          T         5.3\n1         ABW     English          F         9.5\n2         ABW  Papiamento          F        76.7\n3         ABW     Spanish          F         7.4\n4         AFG     Balochi          F         0.9\n5         AFG        Dari          T        32.1\n6         AFG      Pashto          T        52.4\n7         AFG  Turkmenian          F         1.9\n8         AFG       Uzbek          F         8.8\n9         AGO        Ambo          F         2.4",
      "text/html": "<div>\n<style scoped>\n    .dataframe tbody tr th:only-of-type {\n        vertical-align: middle;\n    }\n\n    .dataframe tbody tr th {\n        vertical-align: top;\n    }\n\n    .dataframe thead th {\n        text-align: right;\n    }\n</style>\n<table border=\"1\" class=\"dataframe\">\n  <thead>\n    <tr style=\"text-align: right;\">\n      <th></th>\n      <th>CountryCode</th>\n      <th>Language</th>\n      <th>IsOfficial</th>\n      <th>Percentage</th>\n    </tr>\n  </thead>\n  <tbody>\n    <tr>\n      <th>0</th>\n      <td>ABW</td>\n      <td>Dutch</td>\n      <td>T</td>\n      <td>5.3</td>\n    </tr>\n    <tr>\n      <th>1</th>\n      <td>ABW</td>\n      <td>English</td>\n      <td>F</td>\n      <td>9.5</td>\n    </tr>\n    <tr>\n      <th>2</th>\n      <td>ABW</td>\n      <td>Papiamento</td>\n      <td>F</td>\n      <td>76.7</td>\n    </tr>\n    <tr>\n      <th>3</th>\n      <td>ABW</td>\n      <td>Spanish</td>\n      <td>F</td>\n      <td>7.4</td>\n    </tr>\n    <tr>\n      <th>4</th>\n      <td>AFG</td>\n      <td>Balochi</td>\n      <td>F</td>\n      <td>0.9</td>\n    </tr>\n    <tr>\n      <th>5</th>\n      <td>AFG</td>\n      <td>Dari</td>\n      <td>T</td>\n      <td>32.1</td>\n    </tr>\n    <tr>\n      <th>6</th>\n      <td>AFG</td>\n      <td>Pashto</td>\n      <td>T</td>\n      <td>52.4</td>\n    </tr>\n    <tr>\n      <th>7</th>\n      <td>AFG</td>\n      <td>Turkmenian</td>\n      <td>F</td>\n      <td>1.9</td>\n    </tr>\n    <tr>\n      <th>8</th>\n      <td>AFG</td>\n      <td>Uzbek</td>\n      <td>F</td>\n      <td>8.8</td>\n    </tr>\n    <tr>\n      <th>9</th>\n      <td>AGO</td>\n      <td>Ambo</td>\n      <td>F</td>\n      <td>2.4</td>\n    </tr>\n  </tbody>\n</table>\n</div>"
     },
     "metadata": {},
     "execution_count": 16
    }
   ],
   "source": [
    "pd.read_sql(\"SELECT * FROM countrylanguage LIMIT 10;\", con=con)"
   ]
  },
  {
   "cell_type": "code",
   "execution_count": 14,
   "metadata": {},
   "outputs": [
    {
     "output_type": "execute_result",
     "data": {
      "text/plain": "      name\n0  Bermuda",
      "text/html": "<div>\n<style scoped>\n    .dataframe tbody tr th:only-of-type {\n        vertical-align: middle;\n    }\n\n    .dataframe tbody tr th {\n        vertical-align: top;\n    }\n\n    .dataframe thead th {\n        text-align: right;\n    }\n</style>\n<table border=\"1\" class=\"dataframe\">\n  <thead>\n    <tr style=\"text-align: right;\">\n      <th></th>\n      <th>name</th>\n    </tr>\n  </thead>\n  <tbody>\n    <tr>\n      <th>0</th>\n      <td>Bermuda</td>\n    </tr>\n  </tbody>\n</table>\n</div>"
     },
     "metadata": {},
     "execution_count": 14
    }
   ],
   "source": [
    "# country who has the largest percentage of population speaking english\n",
    "query = \"\"\"\n",
    "SELECT c.name\n",
    "FROM country AS c\n",
    "         INNER JOIN\n",
    "     (SELECT countrycode\n",
    "      FROM countrylanguage\n",
    "      WHERE percentage = (SELECT max(percentage) AS percentage FROM countrylanguage WHERE language = 'english')\n",
    "        AND language = 'english') AS cl\n",
    "     ON c.code = cl.countrycode\n",
    ";\"\"\"\n",
    "pd.read_sql(query, con=con)"
   ]
  },
  {
   "cell_type": "code",
   "execution_count": 19,
   "metadata": {},
   "outputs": [
    {
     "output_type": "execute_result",
     "data": {
      "text/plain": "    ratio\n0  19.61%",
      "text/html": "<div>\n<style scoped>\n    .dataframe tbody tr th:only-of-type {\n        vertical-align: middle;\n    }\n\n    .dataframe tbody tr th {\n        vertical-align: top;\n    }\n\n    .dataframe thead th {\n        text-align: right;\n    }\n</style>\n<table border=\"1\" class=\"dataframe\">\n  <thead>\n    <tr style=\"text-align: right;\">\n      <th></th>\n      <th>ratio</th>\n    </tr>\n  </thead>\n  <tbody>\n    <tr>\n      <th>0</th>\n      <td>19.61%</td>\n    </tr>\n  </tbody>\n</table>\n</div>"
     },
     "metadata": {},
     "execution_count": 19
    }
   ],
   "source": [
    "# percentage of chinese speaking population in the world population\n",
    "query = \"\"\"\n",
    "SELECT concat(round((SELECT sum(population.population)\n",
    "                     FROM (SELECT pbp.population * pbp.percentage / 100 AS population\n",
    "                           FROM (SELECT c.population, cl.percentage\n",
    "                                 FROM country AS c\n",
    "                                          INNER JOIN (SELECT * FROM countrylanguage WHERE language = 'chinese') AS cl\n",
    "                                                     ON c.code = cl.countrycode) AS pbp) AS population) /\n",
    "                    (SELECT sum(population) FROM country) * 100, 2), '%') AS ratio;\n",
    "\"\"\"\n",
    "pd.read_sql(query, con=con)"
   ]
  },
  {
   "cell_type": "code",
   "execution_count": 20,
   "metadata": {},
   "outputs": [
    {
     "output_type": "execute_result",
     "data": {
      "text/plain": "   Tables_in_world\n0             city\n1          country\n2  countrylanguage",
      "text/html": "<div>\n<style scoped>\n    .dataframe tbody tr th:only-of-type {\n        vertical-align: middle;\n    }\n\n    .dataframe tbody tr th {\n        vertical-align: top;\n    }\n\n    .dataframe thead th {\n        text-align: right;\n    }\n</style>\n<table border=\"1\" class=\"dataframe\">\n  <thead>\n    <tr style=\"text-align: right;\">\n      <th></th>\n      <th>Tables_in_world</th>\n    </tr>\n  </thead>\n  <tbody>\n    <tr>\n      <th>0</th>\n      <td>city</td>\n    </tr>\n    <tr>\n      <th>1</th>\n      <td>country</td>\n    </tr>\n    <tr>\n      <th>2</th>\n      <td>countrylanguage</td>\n    </tr>\n  </tbody>\n</table>\n</div>"
     },
     "metadata": {},
     "execution_count": 20
    }
   ],
   "source": [
    "pd.read_sql(\"SHOW TABLES;\", con=con)"
   ]
  },
  {
   "cell_type": "code",
   "execution_count": 22,
   "metadata": {},
   "outputs": [],
   "source": [
    "con.close()"
   ]
  }
 ]
}